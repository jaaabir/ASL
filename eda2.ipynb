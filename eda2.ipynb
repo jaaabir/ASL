{
 "cells": [
  {
   "cell_type": "markdown",
   "metadata": {},
   "source": [
    "#### Kaggle"
   ]
  },
  {
   "cell_type": "code",
   "execution_count": 60,
   "metadata": {
    "_cell_guid": "b1076dfc-b9ad-4769-8c92-a6c4dae69d19",
    "_uuid": "8f2839f25d086af736a60e9eeb907d3b93b6e0e5",
    "execution": {
     "iopub.execute_input": "2025-05-02T18:15:00.429089Z",
     "iopub.status.busy": "2025-05-02T18:15:00.428073Z",
     "iopub.status.idle": "2025-05-02T18:15:00.440153Z",
     "shell.execute_reply": "2025-05-02T18:15:00.439383Z",
     "shell.execute_reply.started": "2025-05-02T18:15:00.429058Z"
    },
    "trusted": true
   },
   "outputs": [],
   "source": [
    "from tqdm import tqdm\n",
    "import numpy as np # linear algebra\n",
    "import pandas as pd # data processing, CSV file I/O (e.g. pd.read_csv)\n",
    "import os\n",
    "import shutil"
   ]
  },
  {
   "cell_type": "code",
   "execution_count": 5,
   "metadata": {
    "execution": {
     "iopub.execute_input": "2025-05-02T16:55:46.323417Z",
     "iopub.status.busy": "2025-05-02T16:55:46.323071Z",
     "iopub.status.idle": "2025-05-02T16:55:46.328721Z",
     "shell.execute_reply": "2025-05-02T16:55:46.327843Z",
     "shell.execute_reply.started": "2025-05-02T16:55:46.323393Z"
    },
    "trusted": true
   },
   "outputs": [],
   "source": [
    "metadata_dir = '/kaggle/input/asl-citizen/ASL_Citizen/splits'\n",
    "videos = '/kaggle/input/asl-citizen/ASL_Citizen/videos'\n",
    "val_data, train_data, test_data = [os.path.join(metadata_dir, d) for d in os.listdir(metadata_dir)]"
   ]
  },
  {
   "cell_type": "code",
   "execution_count": 7,
   "metadata": {
    "execution": {
     "iopub.execute_input": "2025-05-02T16:56:11.103287Z",
     "iopub.status.busy": "2025-05-02T16:56:11.102974Z",
     "iopub.status.idle": "2025-05-02T16:56:11.219985Z",
     "shell.execute_reply": "2025-05-02T16:56:11.218920Z",
     "shell.execute_reply.started": "2025-05-02T16:56:11.103262Z"
    },
    "trusted": true
   },
   "outputs": [
    {
     "data": {
      "text/plain": [
       "(40154, 4)"
      ]
     },
     "execution_count": 7,
     "metadata": {},
     "output_type": "execute_result"
    }
   ],
   "source": [
    "train_df = pd.read_csv(train_data)\n",
    "train_df.shape"
   ]
  },
  {
   "cell_type": "code",
   "execution_count": 8,
   "metadata": {
    "execution": {
     "iopub.execute_input": "2025-05-02T16:56:17.656957Z",
     "iopub.status.busy": "2025-05-02T16:56:17.656609Z",
     "iopub.status.idle": "2025-05-02T16:56:17.683990Z",
     "shell.execute_reply": "2025-05-02T16:56:17.682939Z",
     "shell.execute_reply.started": "2025-05-02T16:56:17.656933Z"
    },
    "trusted": true
   },
   "outputs": [
    {
     "data": {
      "text/html": [
       "<div>\n",
       "<style scoped>\n",
       "    .dataframe tbody tr th:only-of-type {\n",
       "        vertical-align: middle;\n",
       "    }\n",
       "\n",
       "    .dataframe tbody tr th {\n",
       "        vertical-align: top;\n",
       "    }\n",
       "\n",
       "    .dataframe thead th {\n",
       "        text-align: right;\n",
       "    }\n",
       "</style>\n",
       "<table border=\"1\" class=\"dataframe\">\n",
       "  <thead>\n",
       "    <tr style=\"text-align: right;\">\n",
       "      <th></th>\n",
       "      <th>Participant ID</th>\n",
       "      <th>Video file</th>\n",
       "      <th>Gloss</th>\n",
       "      <th>ASL-LEX Code</th>\n",
       "    </tr>\n",
       "  </thead>\n",
       "  <tbody>\n",
       "    <tr>\n",
       "      <th>0</th>\n",
       "      <td>P1</td>\n",
       "      <td>15890366051589533-APPLE.mp4</td>\n",
       "      <td>APPLE</td>\n",
       "      <td>A_03_054</td>\n",
       "    </tr>\n",
       "    <tr>\n",
       "      <th>1</th>\n",
       "      <td>P1</td>\n",
       "      <td>35618482303951104-IMPOSSIBLE.mp4</td>\n",
       "      <td>IMPOSSIBLE</td>\n",
       "      <td>B_01_032</td>\n",
       "    </tr>\n",
       "    <tr>\n",
       "      <th>2</th>\n",
       "      <td>P1</td>\n",
       "      <td>6958143575951994-PARK.mp4</td>\n",
       "      <td>PARK</td>\n",
       "      <td>E_03_028</td>\n",
       "    </tr>\n",
       "    <tr>\n",
       "      <th>3</th>\n",
       "      <td>P1</td>\n",
       "      <td>8006032738002744-SOCCER 2.mp4</td>\n",
       "      <td>SOCCER2</td>\n",
       "      <td>F_03_032</td>\n",
       "    </tr>\n",
       "    <tr>\n",
       "      <th>4</th>\n",
       "      <td>P1</td>\n",
       "      <td>37542279833186454-STINK.mp4</td>\n",
       "      <td>STINK</td>\n",
       "      <td>H_01_064</td>\n",
       "    </tr>\n",
       "  </tbody>\n",
       "</table>\n",
       "</div>"
      ],
      "text/plain": [
       "  Participant ID                        Video file       Gloss ASL-LEX Code\n",
       "0             P1       15890366051589533-APPLE.mp4       APPLE     A_03_054\n",
       "1             P1  35618482303951104-IMPOSSIBLE.mp4  IMPOSSIBLE     B_01_032\n",
       "2             P1         6958143575951994-PARK.mp4        PARK     E_03_028\n",
       "3             P1     8006032738002744-SOCCER 2.mp4     SOCCER2     F_03_032\n",
       "4             P1       37542279833186454-STINK.mp4       STINK     H_01_064"
      ]
     },
     "execution_count": 8,
     "metadata": {},
     "output_type": "execute_result"
    }
   ],
   "source": [
    "train_df.head()"
   ]
  },
  {
   "cell_type": "code",
   "execution_count": 10,
   "metadata": {
    "execution": {
     "iopub.execute_input": "2025-05-02T16:56:59.568069Z",
     "iopub.status.busy": "2025-05-02T16:56:59.567760Z",
     "iopub.status.idle": "2025-05-02T16:56:59.610015Z",
     "shell.execute_reply": "2025-05-02T16:56:59.609066Z",
     "shell.execute_reply.started": "2025-05-02T16:56:59.568047Z"
    },
    "trusted": true
   },
   "outputs": [
    {
     "data": {
      "text/plain": [
       "array(['1DOLLAR', '5DOLLARS', '8HOUR', ..., 'ZOO', 'ZOOMIN', 'ZOOMOFF'],\n",
       "      dtype=object)"
      ]
     },
     "execution_count": 10,
     "metadata": {},
     "output_type": "execute_result"
    }
   ],
   "source": [
    "train_df.Gloss.sort_values().unique()"
   ]
  },
  {
   "cell_type": "code",
   "execution_count": 13,
   "metadata": {
    "execution": {
     "iopub.execute_input": "2025-05-02T16:59:21.878638Z",
     "iopub.status.busy": "2025-05-02T16:59:21.878293Z",
     "iopub.status.idle": "2025-05-02T16:59:21.899962Z",
     "shell.execute_reply": "2025-05-02T16:59:21.898837Z",
     "shell.execute_reply.started": "2025-05-02T16:59:21.878614Z"
    },
    "trusted": true
   },
   "outputs": [
    {
     "data": {
      "text/html": [
       "<div>\n",
       "<style scoped>\n",
       "    .dataframe tbody tr th:only-of-type {\n",
       "        vertical-align: middle;\n",
       "    }\n",
       "\n",
       "    .dataframe tbody tr th {\n",
       "        vertical-align: top;\n",
       "    }\n",
       "\n",
       "    .dataframe thead th {\n",
       "        text-align: right;\n",
       "    }\n",
       "</style>\n",
       "<table border=\"1\" class=\"dataframe\">\n",
       "  <thead>\n",
       "    <tr style=\"text-align: right;\">\n",
       "      <th></th>\n",
       "      <th>Gloss</th>\n",
       "      <th>num_videos</th>\n",
       "    </tr>\n",
       "  </thead>\n",
       "  <tbody>\n",
       "    <tr>\n",
       "      <th>670</th>\n",
       "      <td>DOG1</td>\n",
       "      <td>24</td>\n",
       "    </tr>\n",
       "    <tr>\n",
       "      <th>1198</th>\n",
       "      <td>HURDLE/TRIP1</td>\n",
       "      <td>22</td>\n",
       "    </tr>\n",
       "    <tr>\n",
       "      <th>209</th>\n",
       "      <td>BITE1</td>\n",
       "      <td>21</td>\n",
       "    </tr>\n",
       "    <tr>\n",
       "      <th>283</th>\n",
       "      <td>BREAKFAST1</td>\n",
       "      <td>21</td>\n",
       "    </tr>\n",
       "    <tr>\n",
       "      <th>609</th>\n",
       "      <td>DEMAND1</td>\n",
       "      <td>21</td>\n",
       "    </tr>\n",
       "    <tr>\n",
       "      <th>...</th>\n",
       "      <td>...</td>\n",
       "      <td>...</td>\n",
       "    </tr>\n",
       "    <tr>\n",
       "      <th>752</th>\n",
       "      <td>EDIT2</td>\n",
       "      <td>10</td>\n",
       "    </tr>\n",
       "    <tr>\n",
       "      <th>2523</th>\n",
       "      <td>TWINS2</td>\n",
       "      <td>10</td>\n",
       "    </tr>\n",
       "    <tr>\n",
       "      <th>1466</th>\n",
       "      <td>MECHANIC2</td>\n",
       "      <td>9</td>\n",
       "    </tr>\n",
       "    <tr>\n",
       "      <th>2372</th>\n",
       "      <td>TAKEOFF2</td>\n",
       "      <td>9</td>\n",
       "    </tr>\n",
       "    <tr>\n",
       "      <th>180</th>\n",
       "      <td>BEE2</td>\n",
       "      <td>9</td>\n",
       "    </tr>\n",
       "  </tbody>\n",
       "</table>\n",
       "<p>2731 rows × 2 columns</p>\n",
       "</div>"
      ],
      "text/plain": [
       "             Gloss  num_videos\n",
       "670           DOG1          24\n",
       "1198  HURDLE/TRIP1          22\n",
       "209          BITE1          21\n",
       "283     BREAKFAST1          21\n",
       "609        DEMAND1          21\n",
       "...            ...         ...\n",
       "752          EDIT2          10\n",
       "2523        TWINS2          10\n",
       "1466     MECHANIC2           9\n",
       "2372      TAKEOFF2           9\n",
       "180           BEE2           9\n",
       "\n",
       "[2731 rows x 2 columns]"
      ]
     },
     "execution_count": 13,
     "metadata": {},
     "output_type": "execute_result"
    }
   ],
   "source": [
    "frequency = train_df.groupby('Gloss').size().reset_index(name = 'num_videos').sort_values(by='num_videos', ascending = False)\n",
    "frequency"
   ]
  },
  {
   "cell_type": "markdown",
   "metadata": {},
   "source": [
    "Since the split is not proper we'll create a new split that has equal number of videos for val and test and give more videos to train. "
   ]
  },
  {
   "cell_type": "code",
   "execution_count": 14,
   "metadata": {
    "execution": {
     "iopub.execute_input": "2025-05-02T17:03:24.278354Z",
     "iopub.status.busy": "2025-05-02T17:03:24.277172Z",
     "iopub.status.idle": "2025-05-02T17:03:24.400665Z",
     "shell.execute_reply": "2025-05-02T17:03:24.399403Z",
     "shell.execute_reply.started": "2025-05-02T17:03:24.278287Z"
    },
    "trusted": true
   },
   "outputs": [],
   "source": [
    "val_df = pd.read_csv(val_data)\n",
    "test_df = pd.read_csv(test_data)"
   ]
  },
  {
   "cell_type": "code",
   "execution_count": 15,
   "metadata": {
    "execution": {
     "iopub.execute_input": "2025-05-02T17:03:28.664814Z",
     "iopub.status.busy": "2025-05-02T17:03:28.664449Z",
     "iopub.status.idle": "2025-05-02T17:03:28.671248Z",
     "shell.execute_reply": "2025-05-02T17:03:28.670502Z",
     "shell.execute_reply.started": "2025-05-02T17:03:28.664790Z"
    },
    "trusted": true
   },
   "outputs": [
    {
     "data": {
      "text/plain": [
       "(10304, 4)"
      ]
     },
     "execution_count": 15,
     "metadata": {},
     "output_type": "execute_result"
    }
   ],
   "source": [
    "val_df.shape"
   ]
  },
  {
   "cell_type": "code",
   "execution_count": 16,
   "metadata": {
    "execution": {
     "iopub.execute_input": "2025-05-02T17:03:32.322742Z",
     "iopub.status.busy": "2025-05-02T17:03:32.321733Z",
     "iopub.status.idle": "2025-05-02T17:03:32.328665Z",
     "shell.execute_reply": "2025-05-02T17:03:32.327689Z",
     "shell.execute_reply.started": "2025-05-02T17:03:32.322710Z"
    },
    "trusted": true
   },
   "outputs": [
    {
     "data": {
      "text/plain": [
       "(32941, 4)"
      ]
     },
     "execution_count": 16,
     "metadata": {},
     "output_type": "execute_result"
    }
   ],
   "source": [
    "test_df.shape"
   ]
  },
  {
   "cell_type": "code",
   "execution_count": 18,
   "metadata": {
    "execution": {
     "iopub.execute_input": "2025-05-02T17:07:55.932485Z",
     "iopub.status.busy": "2025-05-02T17:07:55.932058Z",
     "iopub.status.idle": "2025-05-02T17:07:55.944422Z",
     "shell.execute_reply": "2025-05-02T17:07:55.943607Z",
     "shell.execute_reply.started": "2025-05-02T17:07:55.932455Z"
    },
    "trusted": true
   },
   "outputs": [
    {
     "data": {
      "text/plain": [
       "(83399, 4)"
      ]
     },
     "execution_count": 18,
     "metadata": {},
     "output_type": "execute_result"
    }
   ],
   "source": [
    "df = pd.concat([train_df, test_df, val_df])\n",
    "df.shape"
   ]
  },
  {
   "cell_type": "code",
   "execution_count": 19,
   "metadata": {
    "execution": {
     "iopub.execute_input": "2025-05-02T17:08:01.061063Z",
     "iopub.status.busy": "2025-05-02T17:08:01.060788Z",
     "iopub.status.idle": "2025-05-02T17:08:01.071082Z",
     "shell.execute_reply": "2025-05-02T17:08:01.069763Z",
     "shell.execute_reply.started": "2025-05-02T17:08:01.061042Z"
    },
    "trusted": true
   },
   "outputs": [
    {
     "data": {
      "text/html": [
       "<div>\n",
       "<style scoped>\n",
       "    .dataframe tbody tr th:only-of-type {\n",
       "        vertical-align: middle;\n",
       "    }\n",
       "\n",
       "    .dataframe tbody tr th {\n",
       "        vertical-align: top;\n",
       "    }\n",
       "\n",
       "    .dataframe thead th {\n",
       "        text-align: right;\n",
       "    }\n",
       "</style>\n",
       "<table border=\"1\" class=\"dataframe\">\n",
       "  <thead>\n",
       "    <tr style=\"text-align: right;\">\n",
       "      <th></th>\n",
       "      <th>Participant ID</th>\n",
       "      <th>Video file</th>\n",
       "      <th>Gloss</th>\n",
       "      <th>ASL-LEX Code</th>\n",
       "    </tr>\n",
       "  </thead>\n",
       "  <tbody>\n",
       "    <tr>\n",
       "      <th>0</th>\n",
       "      <td>P1</td>\n",
       "      <td>15890366051589533-APPLE.mp4</td>\n",
       "      <td>APPLE</td>\n",
       "      <td>A_03_054</td>\n",
       "    </tr>\n",
       "    <tr>\n",
       "      <th>1</th>\n",
       "      <td>P1</td>\n",
       "      <td>35618482303951104-IMPOSSIBLE.mp4</td>\n",
       "      <td>IMPOSSIBLE</td>\n",
       "      <td>B_01_032</td>\n",
       "    </tr>\n",
       "    <tr>\n",
       "      <th>2</th>\n",
       "      <td>P1</td>\n",
       "      <td>6958143575951994-PARK.mp4</td>\n",
       "      <td>PARK</td>\n",
       "      <td>E_03_028</td>\n",
       "    </tr>\n",
       "    <tr>\n",
       "      <th>3</th>\n",
       "      <td>P1</td>\n",
       "      <td>8006032738002744-SOCCER 2.mp4</td>\n",
       "      <td>SOCCER2</td>\n",
       "      <td>F_03_032</td>\n",
       "    </tr>\n",
       "    <tr>\n",
       "      <th>4</th>\n",
       "      <td>P1</td>\n",
       "      <td>37542279833186454-STINK.mp4</td>\n",
       "      <td>STINK</td>\n",
       "      <td>H_01_064</td>\n",
       "    </tr>\n",
       "  </tbody>\n",
       "</table>\n",
       "</div>"
      ],
      "text/plain": [
       "  Participant ID                        Video file       Gloss ASL-LEX Code\n",
       "0             P1       15890366051589533-APPLE.mp4       APPLE     A_03_054\n",
       "1             P1  35618482303951104-IMPOSSIBLE.mp4  IMPOSSIBLE     B_01_032\n",
       "2             P1         6958143575951994-PARK.mp4        PARK     E_03_028\n",
       "3             P1     8006032738002744-SOCCER 2.mp4     SOCCER2     F_03_032\n",
       "4             P1       37542279833186454-STINK.mp4       STINK     H_01_064"
      ]
     },
     "execution_count": 19,
     "metadata": {},
     "output_type": "execute_result"
    }
   ],
   "source": [
    "df.head()"
   ]
  },
  {
   "cell_type": "code",
   "execution_count": 22,
   "metadata": {
    "execution": {
     "iopub.execute_input": "2025-05-02T17:10:07.890217Z",
     "iopub.status.busy": "2025-05-02T17:10:07.889021Z",
     "iopub.status.idle": "2025-05-02T17:10:07.918591Z",
     "shell.execute_reply": "2025-05-02T17:10:07.916850Z",
     "shell.execute_reply.started": "2025-05-02T17:10:07.890171Z"
    },
    "trusted": true
   },
   "outputs": [
    {
     "data": {
      "text/html": [
       "<div>\n",
       "<style scoped>\n",
       "    .dataframe tbody tr th:only-of-type {\n",
       "        vertical-align: middle;\n",
       "    }\n",
       "\n",
       "    .dataframe tbody tr th {\n",
       "        vertical-align: top;\n",
       "    }\n",
       "\n",
       "    .dataframe thead th {\n",
       "        text-align: right;\n",
       "    }\n",
       "</style>\n",
       "<table border=\"1\" class=\"dataframe\">\n",
       "  <thead>\n",
       "    <tr style=\"text-align: right;\">\n",
       "      <th></th>\n",
       "      <th>Gloss</th>\n",
       "      <th>num_videos</th>\n",
       "    </tr>\n",
       "  </thead>\n",
       "  <tbody>\n",
       "    <tr>\n",
       "      <th>670</th>\n",
       "      <td>DOG1</td>\n",
       "      <td>45</td>\n",
       "    </tr>\n",
       "    <tr>\n",
       "      <th>156</th>\n",
       "      <td>BASKETBALL1</td>\n",
       "      <td>44</td>\n",
       "    </tr>\n",
       "    <tr>\n",
       "      <th>2643</th>\n",
       "      <td>WHATFOR1</td>\n",
       "      <td>43</td>\n",
       "    </tr>\n",
       "    <tr>\n",
       "      <th>189</th>\n",
       "      <td>BELT1</td>\n",
       "      <td>40</td>\n",
       "    </tr>\n",
       "    <tr>\n",
       "      <th>582</th>\n",
       "      <td>DARK1</td>\n",
       "      <td>39</td>\n",
       "    </tr>\n",
       "    <tr>\n",
       "      <th>...</th>\n",
       "      <td>...</td>\n",
       "      <td>...</td>\n",
       "    </tr>\n",
       "    <tr>\n",
       "      <th>1058</th>\n",
       "      <td>GUESS2</td>\n",
       "      <td>22</td>\n",
       "    </tr>\n",
       "    <tr>\n",
       "      <th>2530</th>\n",
       "      <td>TYPE2</td>\n",
       "      <td>22</td>\n",
       "    </tr>\n",
       "    <tr>\n",
       "      <th>468</th>\n",
       "      <td>CLOUD2</td>\n",
       "      <td>22</td>\n",
       "    </tr>\n",
       "    <tr>\n",
       "      <th>1363</th>\n",
       "      <td>LETTUCE2</td>\n",
       "      <td>21</td>\n",
       "    </tr>\n",
       "    <tr>\n",
       "      <th>180</th>\n",
       "      <td>BEE2</td>\n",
       "      <td>21</td>\n",
       "    </tr>\n",
       "  </tbody>\n",
       "</table>\n",
       "<p>2731 rows × 2 columns</p>\n",
       "</div>"
      ],
      "text/plain": [
       "            Gloss  num_videos\n",
       "670          DOG1          45\n",
       "156   BASKETBALL1          44\n",
       "2643     WHATFOR1          43\n",
       "189         BELT1          40\n",
       "582         DARK1          39\n",
       "...           ...         ...\n",
       "1058       GUESS2          22\n",
       "2530        TYPE2          22\n",
       "468        CLOUD2          22\n",
       "1363     LETTUCE2          21\n",
       "180          BEE2          21\n",
       "\n",
       "[2731 rows x 2 columns]"
      ]
     },
     "execution_count": 22,
     "metadata": {},
     "output_type": "execute_result"
    }
   ],
   "source": [
    "col_name = 'num_videos'\n",
    "frequency = df.groupby('Gloss').size().reset_index(name=col_name).sort_values(col_name, ascending = False)\n",
    "frequency"
   ]
  },
  {
   "cell_type": "code",
   "execution_count": 30,
   "metadata": {
    "execution": {
     "iopub.execute_input": "2025-05-02T17:20:27.045880Z",
     "iopub.status.busy": "2025-05-02T17:20:27.045546Z",
     "iopub.status.idle": "2025-05-02T17:20:27.054461Z",
     "shell.execute_reply": "2025-05-02T17:20:27.053406Z",
     "shell.execute_reply.started": "2025-05-02T17:20:27.045855Z"
    },
    "trusted": true
   },
   "outputs": [
    {
     "data": {
      "text/plain": [
       "'AXE1, BACKPACK1, BASKETBALL1, BEE1, BELIEVE1, BELT1, BITE1, BLOOD, BORROW, BOTTLE, BOWL, BOXING, BOY, BRAIDS, BRAVE, BREAKFAST1, CALENDAR1, CANCEL1, CANCER1, CASTLE4, CATEGORY, CATHOLIC, CEMETERY, CHAIN, CHANNEL, CHARACTER, CHASE, CHEEK, CHEESEGRATER, CHOCOLATE, CHRISTMAS1, CIGARETTE, CITY1, CLEAR, CLOSE, CLOUD1, CONFUSED1, DARK1, DEAF1, DECIDE1, DEMAND1, DEVELOP1, DINNER1, DOG1, DOWNSIZE1, DRAG1, EAT1, EDIT1, ELEVATOR1, FINE1, FOREIGNER1, GIFT, GREECE, GREEN, GUESS1, HALLOWEEN1, HAMMER, HOSPITAL1, HURDLE/TRIP1, LETTUCE1, LOCK1, LUNCH1, MECHANIC1, MICROSCOPE1, MOVIE1, NIGHT1, NOON1, PARTY1, PATIENT2, RECENT1, RESEARCH1, RIVER1, ROCKINGCHAIR1, SAME2, SANDWICH2, SCARED, SERVE1, SEW, SHAVE1, SHINY, SHOP2, SINK, SKATE, SPECIAL1, STEAL, STICKY, STOMACH, STRANGE, SURPRISE, SUSPECT, TAKEOFF1, TEAM, TEMPTATION, TEXT, THAT, THEY1, THIRD1, TWINS1, TYPE1, WHATFOR1'"
      ]
     },
     "execution_count": 30,
     "metadata": {},
     "output_type": "execute_result"
    }
   ],
   "source": [
    "num_of_signs = 100\n",
    "list_to_str = lambda li, join_by = ', ': join_by.join(li)\n",
    "top_signs = frequency.head(num_of_signs).sort_values(by='Gloss')\n",
    "list_to_str(top_signs.Gloss.to_list())"
   ]
  },
  {
   "cell_type": "code",
   "execution_count": 42,
   "metadata": {
    "execution": {
     "iopub.execute_input": "2025-05-02T17:25:37.118657Z",
     "iopub.status.busy": "2025-05-02T17:25:37.118304Z",
     "iopub.status.idle": "2025-05-02T17:25:37.124939Z",
     "shell.execute_reply": "2025-05-02T17:25:37.123974Z",
     "shell.execute_reply.started": "2025-05-02T17:25:37.118634Z"
    },
    "trusted": true
   },
   "outputs": [
    {
     "name": "stdout",
     "output_type": "stream",
     "text": [
      "AXE1, BACKPACK1, BASKETBALL1, BEE1, BELIEVE1, BELT1, BITE1, BLOOD, BORROW, BOTTLE, BOWL, BOXING, BOY, BRAIDS, BRAVE, BREAKFAST1, CALENDAR1, CANCEL1, CANCER1, CASTLE4, CATEGORY, CATHOLIC, CEMETERY, CHAIN, CHANNEL, CHARACTER, CHASE, CHEEK, CHEESEGRATER, CHOCOLATE, CHRISTMAS1, CIGARETTE, CITY1, CLEAR, CLOSE, CLOUD1, CONFUSED1, DARK1, DEAF1, DECIDE1, DEMAND1, DEVELOP1, DINNER1, DOG1, DOWNSIZE1, DRAG1, EAT1, EDIT1, ELEVATOR1, FINE1, FOREIGNER1, GIFT, GREECE, GREEN, GUESS1, HALLOWEEN1, HAMMER, HOSPITAL1, HURDLE/TRIP1, LETTUCE1, LOCK1, LUNCH1, MECHANIC1, MICROSCOPE1, MOVIE1, NIGHT1, NOON1, PARTY1, PATIENT2, RECENT1, RESEARCH1, RIVER1, ROCKINGCHAIR1, SAME2, SANDWICH2, SCARED, SERVE1, SEW, SHAVE1, SHINY, SHOP2, SINK, SKATE, SPECIAL1, STEAL, STICKY, STOMACH, STRANGE, SURPRISE, SUSPECT, TAKEOFF1, TEAM, TEMPTATION, TEXT, THAT, THEY1, THIRD1, TWINS1, TYPE1, WHATFOR1\n",
      "\n",
      "AXE, BACKPACK, BASKETBALL, BEE, BELIEVE, BELT, BITE, BLOOD, BORROW, BOTTLE, BOWL, BOXING, BOY, BRAIDS, BRAVE, BREAKFAST, CALENDAR, CANCEL, CANCER, CASTLE, CATEGORY, CATHOLIC, CEMETERY, CHAIN, CHANNEL, CHARACTER, CHASE, CHEEK, CHEESEGRATER, CHOCOLATE, CHRISTMAS, CIGARETTE, CITY, CLEAR, CLOSE, CLOUD, CONFUSED, DARK, DEAF, DECIDE, DEMAND, DEVELOP, DINNER, DOG, DOWNSIZE, DRAG, EAT, EDIT, ELEVATOR, FINE, FOREIGNER, GIFT, GREECE, GREEN, GUESS, HALLOWEEN, HAMMER, HOSPITAL, HURDLE/TRIP, LETTUCE, LOCK, LUNCH, MECHANIC, MICROSCOPE, MOVIE, NIGHT, NOON, PARTY, PATIENT, RECENT, RESEARCH, RIVER, ROCKINGCHAIR, SAME, SANDWICH, SCARED, SERVE, SEW, SHAVE, SHINY, SHOP, SINK, SKATE, SPECIAL, STEAL, STICKY, STOMACH, STRANGE, SURPRISE, SUSPECT, TAKEOFF, TEAM, TEMPTATION, TEXT, THAT, THEY, THIRD, TWINS, TYPE, WHATFOR\n"
     ]
    }
   ],
   "source": [
    "strnums = list(map(str, range(0,10)))\n",
    "clean_gloss = lambda x: x[:-1] if x[-1] in strnums else x\n",
    "top_100_signs_cleaned = [clean_gloss(g) for g in top_signs.Gloss.to_list()]\n",
    "top_100_signs = top_signs.Gloss.to_list()\n",
    "print(list_to_str(top_100_signs))\n",
    "print()\n",
    "print(list_to_str(top_100_signs_cleaned))"
   ]
  },
  {
   "cell_type": "code",
   "execution_count": 43,
   "metadata": {
    "execution": {
     "iopub.execute_input": "2025-05-02T17:26:07.334000Z",
     "iopub.status.busy": "2025-05-02T17:26:07.333707Z",
     "iopub.status.idle": "2025-05-02T17:26:07.354612Z",
     "shell.execute_reply": "2025-05-02T17:26:07.353778Z",
     "shell.execute_reply.started": "2025-05-02T17:26:07.333982Z"
    },
    "trusted": true
   },
   "outputs": [
    {
     "data": {
      "text/html": [
       "<div>\n",
       "<style scoped>\n",
       "    .dataframe tbody tr th:only-of-type {\n",
       "        vertical-align: middle;\n",
       "    }\n",
       "\n",
       "    .dataframe tbody tr th {\n",
       "        vertical-align: top;\n",
       "    }\n",
       "\n",
       "    .dataframe thead th {\n",
       "        text-align: right;\n",
       "    }\n",
       "</style>\n",
       "<table border=\"1\" class=\"dataframe\">\n",
       "  <thead>\n",
       "    <tr style=\"text-align: right;\">\n",
       "      <th></th>\n",
       "      <th>Participant ID</th>\n",
       "      <th>Video file</th>\n",
       "      <th>Gloss</th>\n",
       "      <th>ASL-LEX Code</th>\n",
       "    </tr>\n",
       "  </thead>\n",
       "  <tbody>\n",
       "    <tr>\n",
       "      <th>18</th>\n",
       "      <td>P1</td>\n",
       "      <td>4520498201410337-BACKPACK.mp4</td>\n",
       "      <td>BACKPACK1</td>\n",
       "      <td>G_03_091</td>\n",
       "    </tr>\n",
       "    <tr>\n",
       "      <th>33</th>\n",
       "      <td>P1</td>\n",
       "      <td>44939873429204336-CEMETERY.mp4</td>\n",
       "      <td>CEMETERY</td>\n",
       "      <td>H_01_037</td>\n",
       "    </tr>\n",
       "    <tr>\n",
       "      <th>77</th>\n",
       "      <td>P1</td>\n",
       "      <td>7809503445047001-BREAKFAST.mp4</td>\n",
       "      <td>BREAKFAST1</td>\n",
       "      <td>J_01_053</td>\n",
       "    </tr>\n",
       "    <tr>\n",
       "      <th>95</th>\n",
       "      <td>P1</td>\n",
       "      <td>49288220098651747-DOG.mp4</td>\n",
       "      <td>DOG1</td>\n",
       "      <td>A_01_056</td>\n",
       "    </tr>\n",
       "    <tr>\n",
       "      <th>120</th>\n",
       "      <td>P40</td>\n",
       "      <td>8875256912597131-BACKPACK.mp4</td>\n",
       "      <td>BACKPACK1</td>\n",
       "      <td>G_03_091</td>\n",
       "    </tr>\n",
       "    <tr>\n",
       "      <th>...</th>\n",
       "      <td>...</td>\n",
       "      <td>...</td>\n",
       "      <td>...</td>\n",
       "      <td>...</td>\n",
       "    </tr>\n",
       "    <tr>\n",
       "      <th>10221</th>\n",
       "      <td>P26</td>\n",
       "      <td>2632949274164049-CHEESE GRATER.mp4</td>\n",
       "      <td>CHEESEGRATER</td>\n",
       "      <td>F_03_064</td>\n",
       "    </tr>\n",
       "    <tr>\n",
       "      <th>10230</th>\n",
       "      <td>P26</td>\n",
       "      <td>4672262692116116-CHEEK.mp4</td>\n",
       "      <td>CHEEK</td>\n",
       "      <td>G_03_052</td>\n",
       "    </tr>\n",
       "    <tr>\n",
       "      <th>10232</th>\n",
       "      <td>P26</td>\n",
       "      <td>5658562793078117-CLOSE.mp4</td>\n",
       "      <td>CLOSE</td>\n",
       "      <td>G_03_084</td>\n",
       "    </tr>\n",
       "    <tr>\n",
       "      <th>10252</th>\n",
       "      <td>P26</td>\n",
       "      <td>9474917526716478-BASKETBALL.mp4</td>\n",
       "      <td>BASKETBALL1</td>\n",
       "      <td>A_03_045</td>\n",
       "    </tr>\n",
       "    <tr>\n",
       "      <th>10286</th>\n",
       "      <td>P26</td>\n",
       "      <td>6262361040918254-BOY.mp4</td>\n",
       "      <td>BOY</td>\n",
       "      <td>B_02_090</td>\n",
       "    </tr>\n",
       "  </tbody>\n",
       "</table>\n",
       "<p>3544 rows × 4 columns</p>\n",
       "</div>"
      ],
      "text/plain": [
       "      Participant ID                          Video file         Gloss  \\\n",
       "18                P1       4520498201410337-BACKPACK.mp4     BACKPACK1   \n",
       "33                P1      44939873429204336-CEMETERY.mp4      CEMETERY   \n",
       "77                P1      7809503445047001-BREAKFAST.mp4    BREAKFAST1   \n",
       "95                P1           49288220098651747-DOG.mp4          DOG1   \n",
       "120              P40       8875256912597131-BACKPACK.mp4     BACKPACK1   \n",
       "...              ...                                 ...           ...   \n",
       "10221            P26  2632949274164049-CHEESE GRATER.mp4  CHEESEGRATER   \n",
       "10230            P26          4672262692116116-CHEEK.mp4         CHEEK   \n",
       "10232            P26          5658562793078117-CLOSE.mp4         CLOSE   \n",
       "10252            P26     9474917526716478-BASKETBALL.mp4   BASKETBALL1   \n",
       "10286            P26            6262361040918254-BOY.mp4           BOY   \n",
       "\n",
       "      ASL-LEX Code  \n",
       "18        G_03_091  \n",
       "33        H_01_037  \n",
       "77        J_01_053  \n",
       "95        A_01_056  \n",
       "120       G_03_091  \n",
       "...            ...  \n",
       "10221     F_03_064  \n",
       "10230     G_03_052  \n",
       "10232     G_03_084  \n",
       "10252     A_03_045  \n",
       "10286     B_02_090  \n",
       "\n",
       "[3544 rows x 4 columns]"
      ]
     },
     "execution_count": 43,
     "metadata": {},
     "output_type": "execute_result"
    }
   ],
   "source": [
    "top_signs_df = df[df.Gloss.isin(top_100_signs)]\n",
    "top_signs_df"
   ]
  },
  {
   "cell_type": "code",
   "execution_count": 48,
   "metadata": {
    "execution": {
     "iopub.execute_input": "2025-05-02T18:01:49.869416Z",
     "iopub.status.busy": "2025-05-02T18:01:49.869074Z",
     "iopub.status.idle": "2025-05-02T18:01:49.874637Z",
     "shell.execute_reply": "2025-05-02T18:01:49.873743Z",
     "shell.execute_reply.started": "2025-05-02T18:01:49.869394Z"
    },
    "trusted": true
   },
   "outputs": [
    {
     "name": "stdout",
     "output_type": "stream",
     "text": [
      "on average : 35.44 videos per Gloss.\n"
     ]
    }
   ],
   "source": [
    "print('on average :' , top_signs_df.shape[0] / 100, 'videos per Gloss.')"
   ]
  },
  {
   "cell_type": "code",
   "execution_count": 51,
   "metadata": {
    "execution": {
     "iopub.execute_input": "2025-05-02T18:03:31.845385Z",
     "iopub.status.busy": "2025-05-02T18:03:31.845075Z",
     "iopub.status.idle": "2025-05-02T18:03:31.854641Z",
     "shell.execute_reply": "2025-05-02T18:03:31.853681Z",
     "shell.execute_reply.started": "2025-05-02T18:03:31.845355Z"
    },
    "trusted": true
   },
   "outputs": [
    {
     "data": {
      "text/plain": [
       "Participant ID\n",
       "P40    185\n",
       "P35    178\n",
       "P6     177\n",
       "P37    173\n",
       "P42    170\n",
       "P9     133\n",
       "P18    121\n",
       "P47    121\n",
       "P15    115\n",
       "P48    114\n",
       "P49    110\n",
       "P31    110\n",
       "P11    110\n",
       "P50    109\n",
       "P33    108\n",
       "P22    107\n",
       "P39    106\n",
       "P17    105\n",
       "P27    105\n",
       "P21    105\n",
       "P26    103\n",
       "P52    100\n",
       "P29     98\n",
       "P30     83\n",
       "P16     77\n",
       "P14     76\n",
       "P7      76\n",
       "P51     72\n",
       "P12     55\n",
       "P43     43\n",
       "P36     34\n",
       "P5      28\n",
       "P23     21\n",
       "P20     20\n",
       "P34     17\n",
       "P4      17\n",
       "P46     12\n",
       "P28     11\n",
       "P25      8\n",
       "P38      6\n",
       "P2       5\n",
       "P1       4\n",
       "P3       4\n",
       "P24      4\n",
       "P32      4\n",
       "P10      3\n",
       "P41      1\n",
       "dtype: int64"
      ]
     },
     "execution_count": 51,
     "metadata": {},
     "output_type": "execute_result"
    }
   ],
   "source": [
    "top_signs_df.groupby('Participant ID').size().sort_values(ascending = False)"
   ]
  },
  {
   "cell_type": "code",
   "execution_count": 55,
   "metadata": {
    "execution": {
     "iopub.execute_input": "2025-05-02T18:05:16.207691Z",
     "iopub.status.busy": "2025-05-02T18:05:16.207374Z",
     "iopub.status.idle": "2025-05-02T18:05:16.228813Z",
     "shell.execute_reply": "2025-05-02T18:05:16.227932Z",
     "shell.execute_reply.started": "2025-05-02T18:05:16.207662Z"
    },
    "trusted": true
   },
   "outputs": [],
   "source": [
    "top_signs_df.to_csv('top_100_signs.csv', index = False)"
   ]
  },
  {
   "cell_type": "code",
   "execution_count": 57,
   "metadata": {
    "execution": {
     "iopub.execute_input": "2025-05-02T18:08:44.411304Z",
     "iopub.status.busy": "2025-05-02T18:08:44.410902Z",
     "iopub.status.idle": "2025-05-02T18:08:44.418497Z",
     "shell.execute_reply": "2025-05-02T18:08:44.416929Z",
     "shell.execute_reply.started": "2025-05-02T18:08:44.411275Z"
    },
    "trusted": true
   },
   "outputs": [],
   "source": [
    "vid_fname = 'videos'\n",
    "os.makedirs(vid_fname)"
   ]
  },
  {
   "cell_type": "code",
   "execution_count": 61,
   "metadata": {
    "execution": {
     "iopub.execute_input": "2025-05-02T18:15:38.535435Z",
     "iopub.status.busy": "2025-05-02T18:15:38.535100Z",
     "iopub.status.idle": "2025-05-02T18:16:53.253733Z",
     "shell.execute_reply": "2025-05-02T18:16:53.252777Z",
     "shell.execute_reply.started": "2025-05-02T18:15:38.535411Z"
    },
    "trusted": true
   },
   "outputs": [
    {
     "name": "stderr",
     "output_type": "stream",
     "text": [
      "Copying files from input folder to output folder: 3544it [01:14, 47.44it/s]\n"
     ]
    }
   ],
   "source": [
    "for _, row in tqdm(top_signs_df.iterrows(), desc = 'Copying files from input folder to output folder'):\n",
    "    vname = row['Video file']\n",
    "    current_vpath = os.path.join(videos, vname)\n",
    "    save_path = os.path.join(vid_fname, vname)\n",
    "    if os.path.exists(current_vpath):\n",
    "        shutil.copy(current_vpath, save_path)"
   ]
  },
  {
   "cell_type": "code",
   "execution_count": 62,
   "metadata": {
    "execution": {
     "iopub.execute_input": "2025-05-02T18:22:51.498765Z",
     "iopub.status.busy": "2025-05-02T18:22:51.496797Z",
     "iopub.status.idle": "2025-05-02T18:24:29.074881Z",
     "shell.execute_reply": "2025-05-02T18:24:29.073611Z",
     "shell.execute_reply.started": "2025-05-02T18:22:51.498717Z"
    },
    "trusted": true
   },
   "outputs": [
    {
     "data": {
      "text/plain": [
       "'/kaggle/working/top100_videos.zip'"
      ]
     },
     "execution_count": 62,
     "metadata": {},
     "output_type": "execute_result"
    }
   ],
   "source": [
    "shutil.make_archive('top100_videos', 'zip', vid_fname)"
   ]
  },
  {
   "cell_type": "markdown",
   "metadata": {
    "trusted": true
   },
   "source": [
    "##### Local "
   ]
  },
  {
   "cell_type": "code",
   "execution_count": 1,
   "metadata": {},
   "outputs": [],
   "source": [
    "import os \n",
    "import pandas as pd "
   ]
  },
  {
   "cell_type": "code",
   "execution_count": 4,
   "metadata": {},
   "outputs": [
    {
     "data": {
      "text/html": [
       "<div>\n",
       "<style scoped>\n",
       "    .dataframe tbody tr th:only-of-type {\n",
       "        vertical-align: middle;\n",
       "    }\n",
       "\n",
       "    .dataframe tbody tr th {\n",
       "        vertical-align: top;\n",
       "    }\n",
       "\n",
       "    .dataframe thead th {\n",
       "        text-align: right;\n",
       "    }\n",
       "</style>\n",
       "<table border=\"1\" class=\"dataframe\">\n",
       "  <thead>\n",
       "    <tr style=\"text-align: right;\">\n",
       "      <th></th>\n",
       "      <th>Participant ID</th>\n",
       "      <th>Video file</th>\n",
       "      <th>Gloss</th>\n",
       "      <th>ASL-LEX Code</th>\n",
       "    </tr>\n",
       "  </thead>\n",
       "  <tbody>\n",
       "    <tr>\n",
       "      <th>0</th>\n",
       "      <td>P1</td>\n",
       "      <td>4520498201410337-BACKPACK.mp4</td>\n",
       "      <td>BACKPACK1</td>\n",
       "      <td>G_03_091</td>\n",
       "    </tr>\n",
       "    <tr>\n",
       "      <th>1</th>\n",
       "      <td>P1</td>\n",
       "      <td>44939873429204336-CEMETERY.mp4</td>\n",
       "      <td>CEMETERY</td>\n",
       "      <td>H_01_037</td>\n",
       "    </tr>\n",
       "    <tr>\n",
       "      <th>2</th>\n",
       "      <td>P1</td>\n",
       "      <td>7809503445047001-BREAKFAST.mp4</td>\n",
       "      <td>BREAKFAST1</td>\n",
       "      <td>J_01_053</td>\n",
       "    </tr>\n",
       "    <tr>\n",
       "      <th>3</th>\n",
       "      <td>P1</td>\n",
       "      <td>49288220098651747-DOG.mp4</td>\n",
       "      <td>DOG1</td>\n",
       "      <td>A_01_056</td>\n",
       "    </tr>\n",
       "    <tr>\n",
       "      <th>4</th>\n",
       "      <td>P40</td>\n",
       "      <td>8875256912597131-BACKPACK.mp4</td>\n",
       "      <td>BACKPACK1</td>\n",
       "      <td>G_03_091</td>\n",
       "    </tr>\n",
       "  </tbody>\n",
       "</table>\n",
       "</div>"
      ],
      "text/plain": [
       "  Participant ID                      Video file       Gloss ASL-LEX Code\n",
       "0             P1   4520498201410337-BACKPACK.mp4   BACKPACK1     G_03_091\n",
       "1             P1  44939873429204336-CEMETERY.mp4    CEMETERY     H_01_037\n",
       "2             P1  7809503445047001-BREAKFAST.mp4  BREAKFAST1     J_01_053\n",
       "3             P1       49288220098651747-DOG.mp4        DOG1     A_01_056\n",
       "4            P40   8875256912597131-BACKPACK.mp4   BACKPACK1     G_03_091"
      ]
     },
     "execution_count": 4,
     "metadata": {},
     "output_type": "execute_result"
    }
   ],
   "source": [
    "dataset_root = os.path.join('datasets', 'ASL-Citizen')\n",
    "video_root = os.path.join(dataset_root, 'top100_videos')\n",
    "df_path = os.path.join(dataset_root, 'top_100_signs.csv')\n",
    "df = pd.read_csv(df_path)\n",
    "df.head()"
   ]
  },
  {
   "cell_type": "code",
   "execution_count": 5,
   "metadata": {},
   "outputs": [
    {
     "data": {
      "text/html": [
       "<div>\n",
       "<style scoped>\n",
       "    .dataframe tbody tr th:only-of-type {\n",
       "        vertical-align: middle;\n",
       "    }\n",
       "\n",
       "    .dataframe tbody tr th {\n",
       "        vertical-align: top;\n",
       "    }\n",
       "\n",
       "    .dataframe thead th {\n",
       "        text-align: right;\n",
       "    }\n",
       "</style>\n",
       "<table border=\"1\" class=\"dataframe\">\n",
       "  <thead>\n",
       "    <tr style=\"text-align: right;\">\n",
       "      <th></th>\n",
       "      <th>Participant ID</th>\n",
       "      <th>Video file</th>\n",
       "      <th>Gloss</th>\n",
       "      <th>ASL-LEX Code</th>\n",
       "    </tr>\n",
       "  </thead>\n",
       "  <tbody>\n",
       "    <tr>\n",
       "      <th>0</th>\n",
       "      <td>P1</td>\n",
       "      <td>4520498201410337-BACKPACK.mp4</td>\n",
       "      <td>BACKPACK</td>\n",
       "      <td>G_03_091</td>\n",
       "    </tr>\n",
       "    <tr>\n",
       "      <th>1</th>\n",
       "      <td>P1</td>\n",
       "      <td>44939873429204336-CEMETERY.mp4</td>\n",
       "      <td>CEMETERY</td>\n",
       "      <td>H_01_037</td>\n",
       "    </tr>\n",
       "    <tr>\n",
       "      <th>2</th>\n",
       "      <td>P1</td>\n",
       "      <td>7809503445047001-BREAKFAST.mp4</td>\n",
       "      <td>BREAKFAST</td>\n",
       "      <td>J_01_053</td>\n",
       "    </tr>\n",
       "    <tr>\n",
       "      <th>3</th>\n",
       "      <td>P1</td>\n",
       "      <td>49288220098651747-DOG.mp4</td>\n",
       "      <td>DOG</td>\n",
       "      <td>A_01_056</td>\n",
       "    </tr>\n",
       "    <tr>\n",
       "      <th>4</th>\n",
       "      <td>P40</td>\n",
       "      <td>8875256912597131-BACKPACK.mp4</td>\n",
       "      <td>BACKPACK</td>\n",
       "      <td>G_03_091</td>\n",
       "    </tr>\n",
       "  </tbody>\n",
       "</table>\n",
       "</div>"
      ],
      "text/plain": [
       "  Participant ID                      Video file      Gloss ASL-LEX Code\n",
       "0             P1   4520498201410337-BACKPACK.mp4   BACKPACK     G_03_091\n",
       "1             P1  44939873429204336-CEMETERY.mp4   CEMETERY     H_01_037\n",
       "2             P1  7809503445047001-BREAKFAST.mp4  BREAKFAST     J_01_053\n",
       "3             P1       49288220098651747-DOG.mp4        DOG     A_01_056\n",
       "4            P40   8875256912597131-BACKPACK.mp4   BACKPACK     G_03_091"
      ]
     },
     "execution_count": 5,
     "metadata": {},
     "output_type": "execute_result"
    }
   ],
   "source": [
    "strnums = list(map(str, range(0,10)))\n",
    "clean_gloss = lambda x: x[:-1] if x[-1] in strnums else x\n",
    "df['Gloss'] = df['Gloss'].apply(clean_gloss)\n",
    "df.head()"
   ]
  },
  {
   "cell_type": "code",
   "execution_count": 6,
   "metadata": {},
   "outputs": [],
   "source": [
    "df.to_csv('top_100_signs_cleaned.csv', index = False)"
   ]
  },
  {
   "cell_type": "code",
   "execution_count": null,
   "metadata": {},
   "outputs": [],
   "source": []
  }
 ],
 "metadata": {
  "kaggle": {
   "accelerator": "none",
   "dataSources": [
    {
     "datasetId": 4178608,
     "sourceId": 7219693,
     "sourceType": "datasetVersion"
    }
   ],
   "dockerImageVersionId": 31012,
   "isGpuEnabled": false,
   "isInternetEnabled": false,
   "language": "python",
   "sourceType": "notebook"
  },
  "kernelspec": {
   "display_name": "venv",
   "language": "python",
   "name": "python3"
  },
  "language_info": {
   "codemirror_mode": {
    "name": "ipython",
    "version": 3
   },
   "file_extension": ".py",
   "mimetype": "text/x-python",
   "name": "python",
   "nbconvert_exporter": "python",
   "pygments_lexer": "ipython3",
   "version": "3.11.9"
  }
 },
 "nbformat": 4,
 "nbformat_minor": 4
}
